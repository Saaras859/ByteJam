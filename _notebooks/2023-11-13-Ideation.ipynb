{
 "cells": [
  {
   "cell_type": "markdown",
   "metadata": {},
   "source": [
    "---\n",
    "toc: true\n",
    "comments: true\n",
    "layout: post\n",
    "title: Ideation Plans for Binary Blackjack\n",
    "description: Ideation plans and presentaiton for Binary Blackjack game\n",
    "type: tangibles \n",
    "courses: { compsci: {week: 1} }\n",
    "---"
   ]
  },
  {
   "cell_type": "markdown",
   "metadata": {},
   "source": [
    "# Blackjack Game Rules\n",
    "\n",
    "## Overview\n",
    "\n",
    "- **Players**: 2 (Computer vs Human)\n",
    "- **Objective**: Reach a card sum closest to 21 without exceeding it.\n",
    "\n",
    "## Card Values\n",
    "\n",
    "- **Number Cards**: Face value (2-10)\n",
    "- **Face Cards** (Jack, Queen, King): 10\n",
    "- **Ace**: 1 or 11 (player's choice)\n",
    "\n",
    "## Gameplay\n",
    "\n",
    "1. **Initial Deal**: Each player receives two random cards. Card values range from 1 to 11.\n",
    "2. **Player's Turn**:\n",
    "   - **Draw Option**: Player can draw additional cards to get closer to 21.\n",
    "   - **Stand Option**: Player can choose to stop drawing cards.\n",
    "   - **Bust**: If total sum exceeds 21, the player automatically loses.\n",
    "3. **Dealer's (Computer's) Turn**:\n",
    "   - **Mandatory Draw**: Dealer must draw cards until the total is 17 or more.\n",
    "   - **Stand**: Dealer stands if the sum is 17 or more.\n",
    "   - **Bust**: If dealer's total exceeds 21, the dealer automatically loses.\n",
    "4. **Conclusion**:\n",
    "   - **Player Wins**: If player's total is greater than the dealer's and ≤ 21.\n",
    "   - **Dealer Wins**: If dealer's total is greater than the player's and ≤ 21.\n",
    "   - **Bust Rule**: Player or dealer automatically loses if their total exceeds 21.\n",
    "\n",
    "### Additional Notes:\n",
    "\n",
    "- Ensure a fair random function for card drawing.\n",
    "- Implement UI with two buttons: \"Draw\" for drawing cards, \"Stand\" to end turn.\n",
    "- The game continues until either player stands or busts.\n",
    "- The winner is determined by comparing the totals of the player and the dealer.\n"
   ]
  },
  {
   "cell_type": "markdown",
   "metadata": {},
   "source": [
    "<h3>Gameplay</h3>"
   ]
  },
  {
   "cell_type": "markdown",
   "metadata": {},
   "source": [
    "<h3>1. Define Card Deck and Values</h3>"
   ]
  },
  {
   "cell_type": "code",
   "execution_count": null,
   "metadata": {},
   "outputs": [],
   "source": [
    "# Import the random module for shuffling the deck\n",
    "import random\n",
    "\n",
    "# Define the suits and ranks of a standard deck of cards\n",
    "suits = ['Hearts', 'Diamonds', 'Clubs', 'Spades']\n",
    "ranks = ['Two', 'Three', 'Four', 'Five', 'Six', 'Seven', 'Eight', 'Nine', 'Ten', 'Jack', 'Queen', 'King', 'Ace']\n",
    "\n",
    "# Create a function to generate and shuffle the deck\n",
    "def create_deck():\n",
    "    \"\"\"Create and shuffle a deck of cards.\"\"\"\n",
    "    deck = [{'rank': rank, 'suit': suit} for rank in ranks for suit in suits]\n",
    "    random.shuffle(deck)\n",
    "    return deck\n",
    "\n",
    "# Create a function to determine the numerical value of a card\n",
    "def card_value(card):\n",
    "    \"\"\"Return the numerical value of a card.\"\"\"\n",
    "    if card['rank'] in ['King', 'Queen', 'Jack']:\n",
    "        return 10\n",
    "    elif card['rank'] == 'Ace':\n",
    "        return 11  # Ace can be 1 or 11; initially set to 11\n",
    "    else:\n",
    "        return int(card['rank'])\n"
   ]
  },
  {
   "cell_type": "markdown",
   "metadata": {},
   "source": [
    "<h4> Code Snippet</h4>\n",
    "\n",
    "The provided Python code initializes a deck of standard playing cards, assigning suits and ranks to each card. The **create_deck** function generates and shuffles a deck using list comprehensions and the random.shuffle function from the random module. Additionally, the **card_value** function determines the numerical value of a card based on its rank, with special consideration for face cards and the flexible value of an Ace. These functions lay the foundation for a card game, offering a shuffled deck and a mechanism to assign values to cards for gameplay purposes."
   ]
  },
  {
   "cell_type": "markdown",
   "metadata": {},
   "source": [
    "<h3>2. Initial Deal</h3>"
   ]
  },
  {
   "cell_type": "code",
   "execution_count": null,
   "metadata": {},
   "outputs": [],
   "source": [
    "# Create a function to deal two cards to each player\n",
    "def initial_deal(deck):\n",
    "    \"\"\"Deal two cards to each player.\"\"\"\n",
    "    player_hand = [deck.pop(), deck.pop()]  # Player's initial hand\n",
    "    dealer_hand = [deck.pop(), deck.pop()]  # Dealer's initial hand\n",
    "    return player_hand, dealer_hand, deck\n"
   ]
  },
  {
   "cell_type": "markdown",
   "metadata": {},
   "source": [
    "<h4>Code Snippet</h4>\n",
    "\n",
    "The provided Python code defines a function named **initial_deal** responsible for dealing two cards to each player in a card game. The function takes a deck of cards as an input parameter. It uses the pop method to draw and remove two cards from the deck for both the player and the dealer. The player's and dealer's initial hands are then returned as tuples along with the updated deck. This function encapsulates the initial dealing phase of the card game, setting up the players with their starting hands for further gameplay."
   ]
  },
  {
   "cell_type": "markdown",
   "metadata": {},
   "source": [
    "<h3>Player's Turn</h3>"
   ]
  },
  {
   "cell_type": "code",
   "execution_count": null,
   "metadata": {},
   "outputs": [],
   "source": [
    "# Create a function to handle the player's turn\n",
    "def player_turn(player_hand, deck):\n",
    "    \"\"\"Handle the player's turn.\"\"\"\n",
    "    while sum(card_value(card) for card in player_hand) < 21:\n",
    "        print(f\"Player's hand: {', '.join(card['rank'] for card in player_hand)}\")\n",
    "        choice = input(\"Do you want to draw another card? (y/n): \").lower()\n",
    "        if choice == 'y':\n",
    "            player_hand.append(deck.pop())  # Draw a card\n",
    "        elif choice == 'n':\n",
    "            break\n",
    "    return player_hand"
   ]
  },
  {
   "cell_type": "markdown",
   "metadata": {},
   "source": [
    "<h4>Code Snippet</h4>\n",
    "\n",
    "The player_turn function in the provided Python code manages the player's turn in a card game. During the player's turn, the function iteratively displays the current hand and prompts the player to decide whether to draw another card. The loop continues as long as the total numerical value of the player's hand is below 21. If the player opts to draw another card, it is added to their hand, and the loop continues. If the player chooses not to draw ('n'), the loop breaks. The function returns the updated player's hand after the turn, capturing the player's decisions and card draws during gameplay."
   ]
  },
  {
   "cell_type": "markdown",
   "metadata": {},
   "source": [
    "<h3>Blackjack Binary Figma Planning</h3>"
   ]
  },
  {
   "cell_type": "markdown",
   "metadata": {},
   "source": [
    "<iframe style=\"border: 1px solid rgba(0, 0, 0, 0.1);\" width=\"800\" height=\"450\" src=\"https://www.figma.com/embed?embed_host=share&url=https%3A%2F%2Fwww.figma.com%2Ffile%2Fhp4fbygXGnKxOYkpvmFCJB%2FSri-Vaidyanathan-Suryanarayanan's-team-library%3Ftype%3Ddesign%26node-id%3D0%253A1%26mode%3Ddesign%26t%3DjlSSNE41HXBgiDHe-1\" allowfullscreen></iframe>"
   ]
  },
  {
   "cell_type": "markdown",
   "metadata": {},
   "source": [
    "<h4>Binary Use in Code</h4>\n",
    "\n",
    "We plan on converting card and sum values into binary at the very end, after doing the algorithms and functions, to allow the user/player to be able to convert from binary to numbers themselves to figure out if they want to hit or stand. "
   ]
  },
  {
   "cell_type": "code",
   "execution_count": null,
   "metadata": {
    "vscode": {
     "languageId": "javascript"
    }
   },
   "outputs": [],
   "source": [
    "var numbers = [\"2\", \"3\", \"4\", \"5\", \"6\", \"7\", \"8\", \"9\", \"10\", \"J\", \"Q\", \"K\", \"A\"];\n",
    "var suits = [\"♠︎\", \"♥︎\", \"♦︎\", \"♣︎\"];\n",
    "\n",
    "// to binary pre\n",
    "\n",
    "var numbers = [\"2\", \"3\", \"4\", \"5\", \"6\", \"7\", \"8\", \"9\", \"10\", \"J\", \"Q\", \"K\", \"A\"];\n",
    "\n",
    "// Function to convert a decimal number to 4-bit binary representation\n",
    "function decimalToBinary(decimal) {\n",
    "    // Use toString(2) to convert the decimal to binary\n",
    "    var binary = parseInt(decimal, 10).toString(2);\n",
    "\n",
    "    // Add leading zeros to make it 4 bits\n",
    "    while (binary.length < 4) {\n",
    "        binary = '0' + binary;\n",
    "    }\n",
    "\n",
    "    return binary;\n",
    "}\n",
    "\n",
    "// Convert each number in the array to binary\n",
    "var binaryNumbers = numbers.map(decimalToBinary);\n",
    "\n",
    "console.log(binaryNumbers);"
   ]
  }
 ],
 "metadata": {
  "language_info": {
   "name": "python"
  },
  "orig_nbformat": 4
 },
 "nbformat": 4,
 "nbformat_minor": 2
}
